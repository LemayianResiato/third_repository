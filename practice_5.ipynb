{
 "cells": [
  {
   "cell_type": "markdown",
   "id": "a76390b4-1519-46ec-b598-cc4c72f1ae98",
   "metadata": {},
   "source": [
    "## Creating a conda virtual environment\n",
    "\n",
    "To create for windows \n",
    "* run conda env create -f win_environment.yml"
   ]
  },
  {
   "cell_type": "markdown",
   "id": "d481956c-6562-4f3d-a0c9-38bbf5e48e9b",
   "metadata": {},
   "source": [
    "## Activating the virtual environment\n",
    "\n",
    "To activate the virtual environment\n",
    "\n",
    "*run conda init bash"
   ]
  },
  {
   "cell_type": "code",
   "execution_count": null,
   "id": "234bf564-cb8e-48d5-a9b7-fe9b52e554a3",
   "metadata": {},
   "outputs": [],
   "source": []
  }
 ],
 "metadata": {
  "kernelspec": {
   "display_name": "Python 3 (ipykernel)",
   "language": "python",
   "name": "python3"
  },
  "language_info": {
   "codemirror_mode": {
    "name": "ipython",
    "version": 3
   },
   "file_extension": ".py",
   "mimetype": "text/x-python",
   "name": "python",
   "nbconvert_exporter": "python",
   "pygments_lexer": "ipython3",
   "version": "3.11.7"
  }
 },
 "nbformat": 4,
 "nbformat_minor": 5
}
