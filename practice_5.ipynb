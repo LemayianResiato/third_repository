{
 "cells": [
  {
   "cell_type": "markdown",
   "id": "a76390b4-1519-46ec-b598-cc4c72f1ae98",
   "metadata": {},
   "source": [
    "## Creating a conda virtual environment\n",
    "\n",
    "To create for windows \n",
    "* run conda env create -f win_environment.yml"
   ]
  },
  {
   "cell_type": "code",
   "execution_count": null,
   "id": "47112fc4-1b97-48a9-8418-2ac394605b94",
   "metadata": {},
   "outputs": [],
   "source": []
  }
 ],
 "metadata": {
  "kernelspec": {
   "display_name": "Python 3 (ipykernel)",
   "language": "python",
   "name": "python3"
  },
  "language_info": {
   "codemirror_mode": {
    "name": "ipython",
    "version": 3
   },
   "file_extension": ".py",
   "mimetype": "text/x-python",
   "name": "python",
   "nbconvert_exporter": "python",
   "pygments_lexer": "ipython3",
   "version": "3.11.7"
  }
 },
 "nbformat": 4,
 "nbformat_minor": 5
}
