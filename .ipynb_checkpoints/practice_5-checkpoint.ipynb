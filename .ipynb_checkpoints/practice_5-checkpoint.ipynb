{
 "cells": [
  {
   "cell_type": "markdown",
   "id": "a76390b4-1519-46ec-b598-cc4c72f1ae98",
   "metadata": {},
   "source": [
    "## Creating a conda virtual environment\n",
    "\n",
    "To create for windows \n",
    "* run conda env create -f win_environment.yml"
   ]
  },
  {
   "cell_type": "markdown",
   "id": "d481956c-6562-4f3d-a0c9-38bbf5e48e9b",
   "metadata": {},
   "source": [
    "## Activating the virtual environment\n",
    "\n",
    "To activate the virtual environment\n",
    "\n",
    "*run conda init bash"
   ]
  },
  {
   "cell_type": "markdown",
   "id": "2511f8fe-4a8d-4497-92af-fba7abead733",
   "metadata": {},
   "source": [
    "#### Team work"
   ]
  }
 ],
 "metadata": {
  "kernelspec": {
   "display_name": "Python 3 (ipykernel)",
   "language": "python",
   "name": "python3"
  },
  "language_info": {
   "codemirror_mode": {
    "name": "ipython",
    "version": 3
   },
   "file_extension": ".py",
   "mimetype": "text/x-python",
   "name": "python",
   "nbconvert_exporter": "python",
   "pygments_lexer": "ipython3",
   "version": "3.11.7"
  }
 },
 "nbformat": 4,
 "nbformat_minor": 5
}
